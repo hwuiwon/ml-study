{
  "nbformat": 4,
  "nbformat_minor": 0,
  "metadata": {
    "colab": {
      "name": "Using scikit-learn",
      "provenance": [],
      "collapsed_sections": [
        "8YLLioXbXaFb"
      ],
      "toc_visible": true,
      "authorship_tag": "ABX9TyOWxtP14ozZAnZ8RcFShmgt",
      "include_colab_link": true
    },
    "kernelspec": {
      "name": "python3",
      "display_name": "Python 3"
    },
    "accelerator": "GPU"
  },
  "cells": [
    {
      "cell_type": "markdown",
      "metadata": {
        "id": "view-in-github",
        "colab_type": "text"
      },
      "source": [
        "<a href=\"https://colab.research.google.com/github/hwuiwon/ml-study/blob/master/Using_scikit_learn.ipynb\" target=\"_parent\"><img src=\"https://colab.research.google.com/assets/colab-badge.svg\" alt=\"Open In Colab\"/></a>"
      ]
    },
    {
      "cell_type": "markdown",
      "metadata": {
        "id": "ux-C5Y9ZpGor",
        "colab_type": "text"
      },
      "source": [
        "# **Scikit-learn**"
      ]
    },
    {
      "cell_type": "markdown",
      "metadata": {
        "id": "HTYMjwimTCU_",
        "colab_type": "text"
      },
      "source": [
        "## **Summary**"
      ]
    },
    {
      "cell_type": "markdown",
      "metadata": {
        "id": "Px_G46vzSrLw",
        "colab_type": "text"
      },
      "source": [
        "We call performance on out-of-sample data of the models learned by the algorithm as **Generalization Performance**.\n",
        "\n",
        "In order to check model's performance by the **\"right\"** way, we split the train data set into two and use one of them in training and use the other part to test the model."
      ]
    },
    {
      "cell_type": "markdown",
      "metadata": {
        "id": "5KkuNc2pTtM-",
        "colab_type": "text"
      },
      "source": [
        "### **Rules**\n",
        "\n",
        "> When spliting the training data set into two, there should be more train set than test set.\n",
        "\n",
        "> Training data should be mixed evenly between both sets."
      ]
    },
    {
      "cell_type": "markdown",
      "metadata": {
        "id": "nGhMdsQ7DQH6",
        "colab_type": "text"
      },
      "source": [
        "## **Wisconsin breast cancer dataset**\n",
        "\n",
        "We will use **Wisconsin breast cancer dataset** from scikit-learn."
      ]
    },
    {
      "cell_type": "code",
      "metadata": {
        "id": "MxoloJYgDako",
        "colab_type": "code",
        "colab": {}
      },
      "source": [
        "from sklearn.datasets import load_breast_cancer\n",
        "cancer = load_breast_cancer()"
      ],
      "execution_count": 0,
      "outputs": []
    },
    {
      "cell_type": "markdown",
      "metadata": {
        "id": "HC_rP7OCDpNi",
        "colab_type": "text"
      },
      "source": [
        "We will check cancer's data and target."
      ]
    },
    {
      "cell_type": "code",
      "metadata": {
        "id": "WAkZSNGuDvUS",
        "colab_type": "code",
        "outputId": "8aa2c8c0-1e85-44ac-b2c9-fb9077273cba",
        "colab": {
          "base_uri": "https://localhost:8080/",
          "height": 35
        }
      },
      "source": [
        "print(cancer.data.shape, cancer.target.shape)"
      ],
      "execution_count": 29,
      "outputs": [
        {
          "output_type": "stream",
          "text": [
            "(569, 30) (569,)\n"
          ],
          "name": "stdout"
        }
      ]
    },
    {
      "cell_type": "markdown",
      "metadata": {
        "id": "CWEqE_kyD3HE",
        "colab_type": "text"
      },
      "source": [
        "It seems there are **569** data and **30** cancer characteristics."
      ]
    },
    {
      "cell_type": "code",
      "metadata": {
        "id": "K7byD9GVD_NK",
        "colab_type": "code",
        "outputId": "4177f438-358a-416b-fd52-7dc856c502ac",
        "colab": {
          "base_uri": "https://localhost:8080/",
          "height": 287
        }
      },
      "source": [
        "cancer.data[:3]"
      ],
      "execution_count": 30,
      "outputs": [
        {
          "output_type": "execute_result",
          "data": {
            "text/plain": [
              "array([[1.799e+01, 1.038e+01, 1.228e+02, 1.001e+03, 1.184e-01, 2.776e-01,\n",
              "        3.001e-01, 1.471e-01, 2.419e-01, 7.871e-02, 1.095e+00, 9.053e-01,\n",
              "        8.589e+00, 1.534e+02, 6.399e-03, 4.904e-02, 5.373e-02, 1.587e-02,\n",
              "        3.003e-02, 6.193e-03, 2.538e+01, 1.733e+01, 1.846e+02, 2.019e+03,\n",
              "        1.622e-01, 6.656e-01, 7.119e-01, 2.654e-01, 4.601e-01, 1.189e-01],\n",
              "       [2.057e+01, 1.777e+01, 1.329e+02, 1.326e+03, 8.474e-02, 7.864e-02,\n",
              "        8.690e-02, 7.017e-02, 1.812e-01, 5.667e-02, 5.435e-01, 7.339e-01,\n",
              "        3.398e+00, 7.408e+01, 5.225e-03, 1.308e-02, 1.860e-02, 1.340e-02,\n",
              "        1.389e-02, 3.532e-03, 2.499e+01, 2.341e+01, 1.588e+02, 1.956e+03,\n",
              "        1.238e-01, 1.866e-01, 2.416e-01, 1.860e-01, 2.750e-01, 8.902e-02],\n",
              "       [1.969e+01, 2.125e+01, 1.300e+02, 1.203e+03, 1.096e-01, 1.599e-01,\n",
              "        1.974e-01, 1.279e-01, 2.069e-01, 5.999e-02, 7.456e-01, 7.869e-01,\n",
              "        4.585e+00, 9.403e+01, 6.150e-03, 4.006e-02, 3.832e-02, 2.058e-02,\n",
              "        2.250e-02, 4.571e-03, 2.357e+01, 2.553e+01, 1.525e+02, 1.709e+03,\n",
              "        1.444e-01, 4.245e-01, 4.504e-01, 2.430e-01, 3.613e-01, 8.758e-02]])"
            ]
          },
          "metadata": {
            "tags": []
          },
          "execution_count": 30
        }
      ]
    },
    {
      "cell_type": "markdown",
      "metadata": {
        "id": "8xW-81MREE3K",
        "colab_type": "text"
      },
      "source": [
        "As there are too many characteristics, we will use the box plot to show each characteristic's **quartile value** instead of using scatter plot.\n",
        "<br><br>\n",
        "First import **matplotlib** and **numpy** by running the code below."
      ]
    },
    {
      "cell_type": "code",
      "metadata": {
        "id": "t9kG8DoiEccy",
        "colab_type": "code",
        "colab": {}
      },
      "source": [
        "import matplotlib.pyplot as plt\n",
        "import numpy as np"
      ],
      "execution_count": 0,
      "outputs": []
    },
    {
      "cell_type": "code",
      "metadata": {
        "id": "3UAxDASYEoJD",
        "colab_type": "code",
        "outputId": "ee1b5cb3-782c-4884-da0d-a33edbfe3954",
        "colab": {
          "base_uri": "https://localhost:8080/",
          "height": 279
        }
      },
      "source": [
        "plt.boxplot(cancer.data)\n",
        "plt.xlabel('feature')\n",
        "plt.ylabel('value')\n",
        "plt.show()"
      ],
      "execution_count": 32,
      "outputs": [
        {
          "output_type": "display_data",
          "data": {
            "image/png": "[encoded data removed]",
            "text/plain": [
              "<Figure size 432x288 with 1 Axes>"
            ]
          },
          "metadata": {
            "tags": []
          }
        }
      ]
    },
    {
      "cell_type": "markdown",
      "metadata": {
        "id": "8DZ2TH7TE9CP",
        "colab_type": "text"
      },
      "source": [
        "By looking at the box plot, we can see distribution of **4, 14, and 24th feature** is greater than others.\n",
        "\n",
        "Let's check what those features are."
      ]
    },
    {
      "cell_type": "code",
      "metadata": {
        "id": "FpZJvkLfFXc9",
        "colab_type": "code",
        "outputId": "37d7a2d6-28e8-476f-9ddd-11bbe29469d8",
        "colab": {
          "base_uri": "https://localhost:8080/",
          "height": 35
        }
      },
      "source": [
        "cancer.feature_names[[3,13,23]]"
      ],
      "execution_count": 33,
      "outputs": [
        {
          "output_type": "execute_result",
          "data": {
            "text/plain": [
              "array(['mean area', 'area error', 'worst area'], dtype='<U23')"
            ]
          },
          "metadata": {
            "tags": []
          },
          "execution_count": 33
        }
      ]
    },
    {
      "cell_type": "markdown",
      "metadata": {
        "id": "dodolVWtF4IL",
        "colab_type": "text"
      },
      "source": [
        "We will now check target of the cancer dataset."
      ]
    },
    {
      "cell_type": "code",
      "metadata": {
        "id": "WDKELluiGCaa",
        "colab_type": "code",
        "outputId": "ff0e443b-1d54-4b8f-8039-557c8d0c2a02",
        "colab": {
          "base_uri": "https://localhost:8080/",
          "height": 35
        }
      },
      "source": [
        "np.unique(cancer.target, return_counts=True)"
      ],
      "execution_count": 34,
      "outputs": [
        {
          "output_type": "execute_result",
          "data": {
            "text/plain": [
              "(array([0, 1]), array([212, 357]))"
            ]
          },
          "metadata": {
            "tags": []
          },
          "execution_count": 34
        }
      ]
    },
    {
      "cell_type": "markdown",
      "metadata": {
        "id": "6casebszGIKi",
        "colab_type": "text"
      },
      "source": [
        "There are 212 benign tumors (target value = 0) and 357 malignant tumors (target value = 1)."
      ]
    },
    {
      "cell_type": "code",
      "metadata": {
        "id": "oLztYI-YG01Z",
        "colab_type": "code",
        "colab": {}
      },
      "source": [
        "x = cancer.data\n",
        "y = cancer.target"
      ],
      "execution_count": 0,
      "outputs": []
    },
    {
      "cell_type": "markdown",
      "metadata": {
        "id": "KEu0YmJvUaz_",
        "colab_type": "text"
      },
      "source": [
        "As mentioned in the rule previously, we will split the data into two individual sets."
      ]
    },
    {
      "cell_type": "code",
      "metadata": {
        "id": "3apVt2fgUkuH",
        "colab_type": "code",
        "colab": {}
      },
      "source": [
        "from sklearn.model_selection import train_test_split\n",
        "\n",
        "x_train, x_test, y_train, y_test = train_test_split(x, y, stratify=y, test_size=0.2, random_state=42)"
      ],
      "execution_count": 0,
      "outputs": []
    },
    {
      "cell_type": "markdown",
      "metadata": {
        "id": "6QY5Z-ahU4Zm",
        "colab_type": "text"
      },
      "source": [
        "> **stratify** parameter makes a split so that the proportion of values in the sample produced will be the same as the proportion of values provided to parameter.\n",
        "\n",
        "> **train_test_split** method splits data set into a training data set and test data set of 75:25 ratio.<br>In this case, we use **test_size** parameter to change that ratio into 80:20."
      ]
    },
    {
      "cell_type": "markdown",
      "metadata": {
        "id": "V8m97qfzWRIw",
        "colab_type": "text"
      },
      "source": [
        "Let's check if our data set is split."
      ]
    },
    {
      "cell_type": "code",
      "metadata": {
        "id": "CapAEbxkWkgD",
        "colab_type": "code",
        "outputId": "dd6219be-f436-44ac-96dc-cd1ea05ae464",
        "colab": {
          "base_uri": "https://localhost:8080/",
          "height": 53
        }
      },
      "source": [
        "print(x_train.shape, x_test.shape)\n",
        "np.unique(y_train, return_counts=True)"
      ],
      "execution_count": 37,
      "outputs": [
        {
          "output_type": "stream",
          "text": [
            "(455, 30) (114, 30)\n"
          ],
          "name": "stdout"
        },
        {
          "output_type": "execute_result",
          "data": {
            "text/plain": [
              "(array([0, 1]), array([170, 285]))"
            ]
          },
          "metadata": {
            "tags": []
          },
          "execution_count": 37
        }
      ]
    },
    {
      "cell_type": "markdown",
      "metadata": {
        "id": "8YLLioXbXaFb",
        "colab_type": "text"
      },
      "source": [
        "### **Embodying Logistic Regression**"
      ]
    },
    {
      "cell_type": "markdown",
      "metadata": {
        "id": "ckgY3eCMaMQ2",
        "colab_type": "text"
      },
      "source": [
        "![Concept](https://drive.google.com/uc?id=1yxClBI1owKWIYlicrrUg-2PGb990oDsd)"
      ]
    },
    {
      "cell_type": "code",
      "metadata": {
        "id": "7YwzM2mBXtXR",
        "colab_type": "code",
        "colab": {}
      },
      "source": [
        "class LogisticNeuron:\n",
        "\n",
        "  def __init__(self):\n",
        "    self.w = None\n",
        "    self.b = None\n",
        "  \n",
        "  def forpass(self, x):\n",
        "    z = np.sum(x * self.w) + self.b\n",
        "    return z\n",
        "\n",
        "  # Calculate gradient\n",
        "  def backprop(self, x, err):\n",
        "    w_grad = x * err\n",
        "    b_grad = 1 * err\n",
        "    return w_grad, b_grad\n",
        "\n",
        "  # Training\n",
        "  def fit(self, x, y, epochs=100):\n",
        "    self.w = np.ones(x.shape[1])\n",
        "    self.b = 0\n",
        "    for i in range(epochs):\n",
        "      for x_i, y_i in zip(x, y):\n",
        "        z = self.forpass(x_i)\n",
        "        a = self.activation(z)\n",
        "        err = -(y_i - a)\n",
        "        w_grad, b_grad = self.backprop(x_i, err)\n",
        "        self.w -= w_grad\n",
        "        self.b -= b_grad\n",
        "  \n",
        "  # Sigmoid function\n",
        "  def activation(self, z):\n",
        "    a = 1 / (1 + np.exp(-z))\n",
        "    return a\n",
        "\n",
        "  def predict(self, x):\n",
        "    z = [self.forpass(x_i) for x_i in x]\n",
        "    a = self.activation(np.array(z))\n",
        "    return a > 0.5"
      ],
      "execution_count": 0,
      "outputs": []
    },
    {
      "cell_type": "markdown",
      "metadata": {
        "id": "XdRb_QkbaWiv",
        "colab_type": "text"
      },
      "source": [
        "Now we will train model by using LogisticNeuron."
      ]
    },
    {
      "cell_type": "code",
      "metadata": {
        "id": "vvwPYloLaelt",
        "colab_type": "code",
        "outputId": "2322ebd6-2fc0-40f0-8fc0-ef93d82771c0",
        "colab": {
          "base_uri": "https://localhost:8080/",
          "height": 53
        }
      },
      "source": [
        "neuron = LogisticNeuron()\n",
        "neuron.fit(x_train, y_train)\n",
        "\n",
        "np.mean(neuron.predict(x_test) == y_test)"
      ],
      "execution_count": 39,
      "outputs": [
        {
          "output_type": "stream",
          "text": [
            "/usr/local/lib/python3.6/dist-packages/ipykernel_launcher.py:32: RuntimeWarning: overflow encountered in exp\n"
          ],
          "name": "stderr"
        },
        {
          "output_type": "execute_result",
          "data": {
            "text/plain": [
              "0.8245614035087719"
            ]
          },
          "metadata": {
            "tags": []
          },
          "execution_count": 39
        }
      ]
    },
    {
      "cell_type": "markdown",
      "metadata": {
        "id": "s7ASb2MGc2xH",
        "colab_type": "text"
      },
      "source": [
        "It seems that our model has accuracy of **82.46%**\n",
        "\n",
        "We will now try to improve the accuracy."
      ]
    },
    {
      "cell_type": "markdown",
      "metadata": {
        "id": "Bscx7iE9K6v1",
        "colab_type": "text"
      },
      "source": [
        "### **Gradient Descent**\n",
        "\n",
        "We used **stochastic gradient descent**, which is calculating gradient by randomly choosing one sample from the data.\n",
        "\n",
        "However we will now use **batch gradient descent** that uses all training set to calculate gradient. "
      ]
    },
    {
      "cell_type": "markdown",
      "metadata": {
        "id": "qWnguLfnLj9T",
        "colab_type": "text"
      },
      "source": [
        "The types of gradient descent mentioned previously should calculate $w$ by shuffling indexes randomly for each epoch.<br>That way, the search process is diversified and we can find the optimal weight $w$.\n",
        "\n",
        "This can be done by using \n",
        "\n",
        "```\n",
        "np.random.permutation()\n",
        "```\n",
        "\n"
      ]
    },
    {
      "cell_type": "code",
      "metadata": {
        "id": "ZHWDLXy6NEEs",
        "colab_type": "code",
        "colab": {}
      },
      "source": [
        "class SingleLayer:\n",
        "\n",
        "  def __init__(self):\n",
        "    self.w = None\n",
        "    self.b = None\n",
        "    self.losses = []\n",
        "\n",
        "  def forpass(self, x):\n",
        "    z = np.sum(x * self.w) + self.b\n",
        "    return z\n",
        "\n",
        "  def backprop(self, x, err):\n",
        "    w_grad = x * err\n",
        "    b_grad = 1 * err\n",
        "    return w_grad, b_grad\n",
        "\n",
        "  def add_bias(self, x):\n",
        "    return np.c_[np.ones((x.shape[0], 1)), x]\n",
        "\n",
        "  def activation(self, z):\n",
        "    a = 1 / (1 + np.exp(-z))\n",
        "    return a\n",
        "  \n",
        "  def fit(self, x, y, epochs=100):\n",
        "    self.w = np.ones(x.shape[1])\n",
        "    self.b = 0\n",
        "    for i in range(epochs):\n",
        "      loss = 0\n",
        "      indexes = np.random.permutation(np.arange(len(x))) # Mixing index\n",
        "      for i in indexes:\n",
        "        z = self.forpass(x[i])\n",
        "        a = self.activation(z)\n",
        "        err = -(y[i] - a)\n",
        "        w_grad, b_grad = self.backprop(x[i], err)\n",
        "        self.w -= w_grad\n",
        "        self.b -= b_grad\n",
        "        a = np.clip(a, 1e-10, 1 - 1e-10) # Clipping value for stable log calculation\n",
        "\n",
        "        loss += -(y[i] * np.log(a) + (1 - y[i]) * np.log(1 - a))\n",
        "      self.losses.append(loss/len(y))\n",
        "\n",
        "  def predict(self, x):\n",
        "    z = [self.forpass(x_i) for x_i in x]\n",
        "    return np.array(z) > 0\n",
        "\n",
        "  def score(self, x, y):\n",
        "    return np.mean(self.predict(x) == y)"
      ],
      "execution_count": 0,
      "outputs": []
    },
    {
      "cell_type": "markdown",
      "metadata": {
        "id": "Vdus_VKlQbGT",
        "colab_type": "text"
      },
      "source": [
        "It's time to test our new neural network."
      ]
    },
    {
      "cell_type": "code",
      "metadata": {
        "id": "ZHDE_InDQklR",
        "colab_type": "code",
        "outputId": "a935b203-6b22-4a80-e3d8-ce7fa1132d9e",
        "colab": {
          "base_uri": "https://localhost:8080/",
          "height": 53
        }
      },
      "source": [
        "layer = SingleLayer()\n",
        "layer.fit(x_train, y_train)\n",
        "layer.score(x_test, y_test)"
      ],
      "execution_count": 41,
      "outputs": [
        {
          "output_type": "stream",
          "text": [
            "/usr/local/lib/python3.6/dist-packages/ipykernel_launcher.py:21: RuntimeWarning: overflow encountered in exp\n"
          ],
          "name": "stderr"
        },
        {
          "output_type": "execute_result",
          "data": {
            "text/plain": [
              "0.9298245614035088"
            ]
          },
          "metadata": {
            "tags": []
          },
          "execution_count": 41
        }
      ]
    },
    {
      "cell_type": "code",
      "metadata": {
        "id": "qm6dM5JGRmCG",
        "colab_type": "code",
        "outputId": "37de8573-3b22-4073-d05b-1606f75ecd3d",
        "colab": {
          "base_uri": "https://localhost:8080/",
          "height": 279
        }
      },
      "source": [
        "plt.plot(layer.losses)\n",
        "plt.xlabel('epoch')\n",
        "plt.ylabel('loss')\n",
        "plt.show()"
      ],
      "execution_count": 42,
      "outputs": [
        {
          "output_type": "display_data",
          "data": {
            "image/png": "[encoded data removed]",
            "text/plain": [
              "<Figure size 432x288 with 1 Axes>"
            ]
          },
          "metadata": {
            "tags": []
          }
        }
      ]
    },
    {
      "cell_type": "markdown",
      "metadata": {
        "id": "2uVfckMmRPGk",
        "colab_type": "text"
      },
      "source": [
        "We can see that accuracy increased from **0.82** to **0.89**.<br>This is because we mixed index of training set for each epoch."
      ]
    },
    {
      "cell_type": "markdown",
      "metadata": {
        "id": "afN5qPc5ViHC",
        "colab_type": "text"
      },
      "source": [
        "## **Using Class from scikit-learn**"
      ]
    },
    {
      "cell_type": "markdown",
      "metadata": {
        "id": "PuG5mjOgVwxQ",
        "colab_type": "text"
      },
      "source": [
        "**SGDClassifier** is a class that implemens gradient descent."
      ]
    },
    {
      "cell_type": "code",
      "metadata": {
        "id": "K_5LCZVIXBzY",
        "colab_type": "code",
        "colab": {}
      },
      "source": [
        "from sklearn.datasets import load_breast_cancer\n",
        "from sklearn.model_selection import train_test_split\n",
        "\n",
        "cancer = load_breast_cancer()\n",
        "x = cancer.data\n",
        "y = cancer.target\n",
        "x_train_all, x_test, y_train_all, y_test = train_test_split(x, y, stratify=y, test_size=0.2, random_state=42)"
      ],
      "execution_count": 0,
      "outputs": []
    },
    {
      "cell_type": "code",
      "metadata": {
        "id": "R5_kP3eDV_eR",
        "colab_type": "code",
        "outputId": "656737bb-a117-489e-d65d-47e26544407a",
        "colab": {
          "base_uri": "https://localhost:8080/",
          "height": 35
        }
      },
      "source": [
        "from sklearn.linear_model import SGDClassifier\n",
        "\n",
        "sgd = SGDClassifier(loss='log', random_state=42)\n",
        "sgd.fit(x_train_all, y_train_all)\n",
        "sgd.score(x_test, y_test)"
      ],
      "execution_count": 44,
      "outputs": [
        {
          "output_type": "execute_result",
          "data": {
            "text/plain": [
              "0.8333333333333334"
            ]
          },
          "metadata": {
            "tags": []
          },
          "execution_count": 44
        }
      ]
    },
    {
      "cell_type": "markdown",
      "metadata": {
        "id": "LYWnwjIjYw9R",
        "colab_type": "text"
      },
      "source": [
        "We can select other loss function to improve accuracy of our model.\n",
        "\n",
        "We will try using **hinge** loss function."
      ]
    },
    {
      "cell_type": "code",
      "metadata": {
        "id": "rIEOmBSFY8-l",
        "colab_type": "code",
        "outputId": "b12103ae-3266-4830-af1f-f0f2dc433b6f",
        "colab": {
          "base_uri": "https://localhost:8080/",
          "height": 35
        }
      },
      "source": [
        "from sklearn.linear_model import SGDClassifier\n",
        "\n",
        "sgd = SGDClassifier(loss='hinge', random_state=42)\n",
        "sgd.fit(x_train_all, y_train_all)\n",
        "sgd.score(x_test, y_test)"
      ],
      "execution_count": 45,
      "outputs": [
        {
          "output_type": "execute_result",
          "data": {
            "text/plain": [
              "0.9385964912280702"
            ]
          },
          "metadata": {
            "tags": []
          },
          "execution_count": 45
        }
      ]
    },
    {
      "cell_type": "markdown",
      "metadata": {
        "id": "UA_YoRDlY_QU",
        "colab_type": "text"
      },
      "source": [
        "A Model that uses the hinge loss function to train yields better performance. We call this **\"tuning\"**.\n",
        "\n",
        "However, there is a high probability that this model will **not perform well in real life**.<br>If we tune a model by using a test set, it creates a model that shows good performance on \"test data\" not \"real data\".\n",
        "\n",
        "So what should we do?"
      ]
    },
    {
      "cell_type": "markdown",
      "metadata": {
        "id": "2KZbgNQHdFM7",
        "colab_type": "text"
      },
      "source": [
        "### **Preparing Validation Set**"
      ]
    },
    {
      "cell_type": "markdown",
      "metadata": {
        "id": "GL1DUQGjdUHD",
        "colab_type": "text"
      },
      "source": [
        "We simply don't have to use test set to tune our model to prevent problem mentioned previously.<br>We will create an another set called **validation set**."
      ]
    },
    {
      "cell_type": "code",
      "metadata": {
        "id": "XcelixaFd4-Z",
        "colab_type": "code",
        "outputId": "9afa10c1-7ec6-403b-d504-90e445d65e08",
        "colab": {
          "base_uri": "https://localhost:8080/",
          "height": 35
        }
      },
      "source": [
        "from sklearn.datasets import load_breast_cancer\n",
        "from sklearn.model_selection import train_test_split\n",
        "\n",
        "cancer = load_breast_cancer()\n",
        "x = cancer.data\n",
        "y = cancer.target\n",
        "x_train_all, x_test, y_train_all, y_test = train_test_split(x, y, stratify=y, test_size=0.2, random_state=42)\n",
        "\n",
        "x_train, x_val, y_train, y_val = train_test_split(x_train_all, y_train_all, stratify=y_train_all, test_size=0.2, random_state=42)\n",
        "print(len(x_train), len(x_val))"
      ],
      "execution_count": 46,
      "outputs": [
        {
          "output_type": "stream",
          "text": [
            "364 91\n"
          ],
          "name": "stdout"
        }
      ]
    },
    {
      "cell_type": "markdown",
      "metadata": {
        "id": "Wi96eCl3ehQt",
        "colab_type": "text"
      },
      "source": [
        "Here, we divided original training model into new training model and validation model with the ratio of 8:2."
      ]
    },
    {
      "cell_type": "markdown",
      "metadata": {
        "id": "v05W6FTSe3Cq",
        "colab_type": "text"
      },
      "source": [
        "### **Evaluating with Validation Set**"
      ]
    },
    {
      "cell_type": "code",
      "metadata": {
        "id": "XUzvJE0bfBPS",
        "colab_type": "code",
        "outputId": "768975c5-f531-4f89-8f8c-d52b303ea0de",
        "colab": {
          "base_uri": "https://localhost:8080/",
          "height": 35
        }
      },
      "source": [
        "from sklearn.linear_model import SGDClassifier\n",
        "\n",
        "sgd = SGDClassifier(loss='log', random_state=42)\n",
        "sgd.fit(x_train, y_train)\n",
        "sgd.score(x_val, y_val)"
      ],
      "execution_count": 47,
      "outputs": [
        {
          "output_type": "execute_result",
          "data": {
            "text/plain": [
              "0.6923076923076923"
            ]
          },
          "metadata": {
            "tags": []
          },
          "execution_count": 47
        }
      ]
    },
    {
      "cell_type": "markdown",
      "metadata": {
        "id": "0IOwSM1RfMDX",
        "colab_type": "text"
      },
      "source": [
        "Model's accuracy has decreased compared to previous trial that didn't have validation set.<br>This is because the **size of the training set has decreased** as we divided it to create validation set.\n",
        "\n",
        "There are only small number of data in Wisconsin breast cancer data set that scikit-learn provides.<br>If we had more data, it would have been better."
      ]
    },
    {
      "cell_type": "markdown",
      "metadata": {
        "id": "JvzhQNj4gGhN",
        "colab_type": "text"
      },
      "source": [
        "#### **Splitting ratio**\n",
        "\n",
        "> **n > 100,000**: 8:1:1<br>\n",
        "> **n > 1,000,000**: 98:1:1\n",
        "\n",
        "where **n** is number of data and<br>\n",
        "**Ratio** - Training Data : Validation Data : Test Data"
      ]
    },
    {
      "cell_type": "markdown",
      "metadata": {
        "id": "jdG2gH46M12S",
        "colab_type": "text"
      },
      "source": [
        "## **Improving Performance**"
      ]
    },
    {
      "cell_type": "markdown",
      "metadata": {
        "id": "y1fznYIvK1xs",
        "colab_type": "text"
      },
      "source": [
        "### **Data Preprocessing**"
      ]
    },
    {
      "cell_type": "markdown",
      "metadata": {
        "id": "aeEUR0zNM74h",
        "colab_type": "text"
      },
      "source": [
        "Data collected in real life may not be uniform, unlike data sets in scikit-learn and other machine learning packages that are well processed.<br>If we use those data without preprocessing, we won't be able to yield accurate results."
      ]
    },
    {
      "cell_type": "markdown",
      "metadata": {
        "id": "kM6ChElXOGMQ",
        "colab_type": "text"
      },
      "source": [
        "#### **Case 1: Scale Difference**"
      ]
    },
    {
      "cell_type": "markdown",
      "metadata": {
        "id": "qVmGOxebOLLX",
        "colab_type": "text"
      },
      "source": [
        "If the scale of data's characteristics differs a lot with each other, our model may not find  the optimal value of $w$ and b."
      ]
    },
    {
      "cell_type": "code",
      "metadata": {
        "id": "ABr-Oz1-PDdW",
        "colab_type": "code",
        "outputId": "53022adc-a4a4-4f29-b3d6-45fdd26518bc",
        "colab": {
          "base_uri": "https://localhost:8080/",
          "height": 297
        }
      },
      "source": [
        "print(cancer.feature_names[[2, 3]])\n",
        "plt.boxplot(x_train[:, 2:4])\n",
        "plt.xlabel('feature')\n",
        "plt.ylabel('value')\n",
        "plt.show()"
      ],
      "execution_count": 48,
      "outputs": [
        {
          "output_type": "stream",
          "text": [
            "['mean perimeter' 'mean area']\n"
          ],
          "name": "stdout"
        },
        {
          "output_type": "display_data",
          "data": {
            "image/png": "[encoded data removed]",
            "text/plain": [
              "<Figure size 432x288 with 1 Axes>"
            ]
          },
          "metadata": {
            "tags": []
          }
        }
      ]
    },
    {
      "cell_type": "markdown",
      "metadata": {
        "id": "XWGoLRbpPWjD",
        "colab_type": "text"
      },
      "source": [
        "By looking at the graph, we can see that the scale of 'mean perimeter' and 'mean area' is different.<br>Values of mean perimeter are distributed between **100 ~ 200** while values of mean area are distributed between **200 ~ 2,000**.\n",
        "\n",
        "What will happen to $w$ if we apply logistic regression function with these values?"
      ]
    },
    {
      "cell_type": "markdown",
      "metadata": {
        "id": "KOghGvIyLezS",
        "colab_type": "text"
      },
      "source": [
        "We will find out by modifying SingleLayer class that was created previously."
      ]
    },
    {
      "cell_type": "code",
      "metadata": {
        "id": "KjG1czgaLqMd",
        "colab_type": "code",
        "colab": {}
      },
      "source": [
        "class SingleLayer2:\n",
        "\n",
        "  # Added weight_history & learning_rate\n",
        "  def __init__(self, learning_rate=0.1):\n",
        "    self.w = None\n",
        "    self.b = None\n",
        "    self.losses = []\n",
        "    self.w_history = []\n",
        "    self.lr = learning_rate\n",
        "\n",
        "  def forpass(self, x):\n",
        "    z = np.sum(x * self.w) + self.b\n",
        "    return z\n",
        "\n",
        "  def backprop(self, x, err):\n",
        "    w_grad = x * err\n",
        "    b_grad = 1 * err\n",
        "    return w_grad, b_grad\n",
        "\n",
        "  def add_bias(self, x):\n",
        "    return np.c_[np.ones((x.shape[0], 1)), x]\n",
        "\n",
        "  def activation(self, z):\n",
        "    a = 1 / (1 + np.exp(-z))\n",
        "    return a\n",
        "  \n",
        "  # Record weight history\n",
        "  def fit(self, x, y, epochs=100):\n",
        "    self.w = np.ones(x.shape[1])\n",
        "    self.b = 0\n",
        "    self.w_history.append(self.w.copy())\n",
        "    for i in range(epochs):\n",
        "      loss = 0\n",
        "      indexes = np.random.permutation(np.arange(len(x)))\n",
        "      for i in indexes:\n",
        "        z = self.forpass(x[i])\n",
        "        a = self.activation(z)\n",
        "        err = -(y[i] - a)\n",
        "        w_grad, b_grad = self.backprop(x[i], err)\n",
        "        self.w -= self.lr * w_grad                          # Multiply weight gradient with learning rate \n",
        "        self.b -= b_grad\n",
        "        self.w_history.append(self.w.copy())                # Record weight history\n",
        "        a = np.clip(a, 1e-10, 1 - 1e-10)\n",
        "\n",
        "        loss += -(y[i] * np.log(a) + (1 - y[i]) * np.log(1 - a))\n",
        "      self.losses.append(loss/len(y))\n",
        "\n",
        "  def predict(self, x):\n",
        "    z = [self.forpass(x_i) for x_i in x]\n",
        "    return np.array(z) > 0\n",
        "\n",
        "  def score(self, x, y):\n",
        "    return np.mean(self.predict(x) == y)"
      ],
      "execution_count": 0,
      "outputs": []
    },
    {
      "cell_type": "markdown",
      "metadata": {
        "id": "Q7BL5Pe0ajvS",
        "colab_type": "text"
      },
      "source": [
        "We made following changes to original SingleLayer:\n",
        "\n",
        "1. Added weight_history & learning_rate when it gets initialized.\n",
        "2. Record weight history and multiply learning weight with weight gradient when changing the weight.\n",
        "\n",
        "Now lets test and see the results."
      ]
    },
    {
      "cell_type": "code",
      "metadata": {
        "id": "Lbbb7xz0bTas",
        "colab_type": "code",
        "outputId": "d6740ea7-b587-47d0-bc26-af7dd3da4eaa",
        "colab": {
          "base_uri": "https://localhost:8080/",
          "height": 53
        }
      },
      "source": [
        "layer1 = SingleLayer2()\n",
        "layer1.fit(x_train, y_train)\n",
        "layer1.score(x_val, y_val)"
      ],
      "execution_count": 50,
      "outputs": [
        {
          "output_type": "stream",
          "text": [
            "/usr/local/lib/python3.6/dist-packages/ipykernel_launcher.py:24: RuntimeWarning: overflow encountered in exp\n"
          ],
          "name": "stderr"
        },
        {
          "output_type": "execute_result",
          "data": {
            "text/plain": [
              "0.9120879120879121"
            ]
          },
          "metadata": {
            "tags": []
          },
          "execution_count": 50
        }
      ]
    },
    {
      "cell_type": "markdown",
      "metadata": {
        "id": "73j-dEr9boR4",
        "colab_type": "text"
      },
      "source": [
        "Before we adjust the scale of data's characteristics, we got **91.2%** accuracy.\n",
        "\n",
        "Now we will see how our weight $w$ changed over each epoch.<br>Final value of $w$ will be shown as a red dot."
      ]
    },
    {
      "cell_type": "code",
      "metadata": {
        "id": "OhoY6g2LcOjy",
        "colab_type": "code",
        "outputId": "239f9663-d88f-4ffd-f46e-6d8f6ff9f348",
        "colab": {
          "base_uri": "https://localhost:8080/",
          "height": 279
        }
      },
      "source": [
        "w2 = []\n",
        "w3 = []\n",
        "for w in layer1.w_history:\n",
        "  w2.append(w[2])\n",
        "  w3.append(w[3])\n",
        "plt.plot(w2, w3)\n",
        "plt.plot(w2[-1], w3[-1], 'ro')\n",
        "plt.xlabel('w[2]')\n",
        "plt.ylabel('w[3]')\n",
        "plt.show()"
      ],
      "execution_count": 51,
      "outputs": [
        {
          "output_type": "display_data",
          "data": {
            "image/png": "[encoded data removed]",
            "text/plain": [
              "<Figure size 432x288 with 1 Axes>"
            ]
          },
          "metadata": {
            "tags": []
          }
        }
      ]
    },
    {
      "cell_type": "markdown",
      "metadata": {
        "id": "bWA_WxP_c80i",
        "colab_type": "text"
      },
      "source": [
        "By looking at the graph, we can see the value of w3 **fluctuates widely**.<br>This is because as the gradient for w3 is large, the weight fluctuates greatly along the w3 axis'\n",
        "\n",
        "We can improve our results by using **standarization**."
      ]
    },
    {
      "cell_type": "markdown",
      "metadata": {
        "id": "n7-2SHscgvux",
        "colab_type": "text"
      },
      "source": [
        "#### **Solution 1: Standarization**"
      ]
    },
    {
      "cell_type": "markdown",
      "metadata": {
        "id": "b0tWPmlfg2ma",
        "colab_type": "text"
      },
      "source": [
        "Formula: $z=\\frac{x-\\mu}{s}$, where $x$ is value, $\\mu$ is mean, and $s$ is standard deviation."
      ]
    },
    {
      "cell_type": "markdown",
      "metadata": {
        "id": "PfN-xdpxi49A",
        "colab_type": "text"
      },
      "source": [
        "We will calculate mean and standard deviation by using numpy."
      ]
    },
    {
      "cell_type": "code",
      "metadata": {
        "id": "qrZch9dBi2iS",
        "colab_type": "code",
        "colab": {}
      },
      "source": [
        "import numpy as np\n",
        "\n",
        "train_mean = np.mean(x_train, axis=0)\n",
        "train_std = np.std(x_train, axis=0)\n",
        "x_train_scaled = (x_train - train_mean) / train_std"
      ],
      "execution_count": 0,
      "outputs": []
    },
    {
      "cell_type": "markdown",
      "metadata": {
        "id": "ATmIj_3yjSBi",
        "colab_type": "text"
      },
      "source": [
        "Now we will trian the model with standatized data sets using SingleLayer2."
      ]
    },
    {
      "cell_type": "code",
      "metadata": {
        "id": "AOAGqGSpjZ6-",
        "colab_type": "code",
        "outputId": "b548f8cc-2a6d-4c8f-b207-f99deb88277c",
        "colab": {
          "base_uri": "https://localhost:8080/",
          "height": 279
        }
      },
      "source": [
        "layer2 = SingleLayer2()\n",
        "layer2.fit(x_train_scaled, y_train)\n",
        "w2 = []\n",
        "w3 = []\n",
        "for w in layer2.w_history:\n",
        "  w2.append(w[2])\n",
        "  w3.append(w[3])\n",
        "plt.plot(w2, w3)\n",
        "plt.plot(w2[-1], w3[-1], 'ro')\n",
        "plt.xlabel('w[2]')\n",
        "plt.ylabel('Standarized w[3]')\n",
        "plt.show()"
      ],
      "execution_count": 53,
      "outputs": [
        {
          "output_type": "display_data",
          "data": {
            "image/png": "[encoded data removed]",
            "text/plain": [
              "<Figure size 432x288 with 1 Axes>"
            ]
          },
          "metadata": {
            "tags": []
          }
        }
      ]
    },
    {
      "cell_type": "markdown",
      "metadata": {
        "id": "GGL-kTk-krMg",
        "colab_type": "text"
      },
      "source": [
        "We will check whether this this model yields better accuracy than previous model without standarization."
      ]
    },
    {
      "cell_type": "code",
      "metadata": {
        "id": "xo-0c3wokzSI",
        "colab_type": "code",
        "outputId": "bc89e704-a397-426f-96c2-fbeb726541b1",
        "colab": {
          "base_uri": "https://localhost:8080/",
          "height": 35
        }
      },
      "source": [
        "x_val_scaled = (x_val - train_mean) / train_std\n",
        "layer2.score(x_val_scaled, y_val)"
      ],
      "execution_count": 54,
      "outputs": [
        {
          "output_type": "execute_result",
          "data": {
            "text/plain": [
              "0.967032967032967"
            ]
          },
          "metadata": {
            "tags": []
          },
          "execution_count": 54
        }
      ]
    },
    {
      "cell_type": "markdown",
      "metadata": {
        "id": "6oFWDtUWlBXh",
        "colab_type": "text"
      },
      "source": [
        "The accuracy of a model **improved** by approximately 5.5%. (0.912 -> 0.967)\n",
        "\n",
        "It is important to **scale training set and validation set with same ratio**."
      ]
    },
    {
      "cell_type": "markdown",
      "metadata": {
        "id": "DhCkr0W8LIeG",
        "colab_type": "text"
      },
      "source": [
        "### **Overfitting & Underfitting**"
      ]
    },
    {
      "cell_type": "markdown",
      "metadata": {
        "id": "0z8Xi2JrLxaL",
        "colab_type": "text"
      },
      "source": [
        "#### **Definition**\n",
        "\n",
        "**Overfitting**: The model performs well with training set, but doesn't perform well with validation set.<br>Ex) 99% accuracy with training set but 80% accuracy with validation set\n",
        "\n",
        "**Underfitting**: The performace between training set and validation set is similar but it's overall accuracy is low."
      ]
    },
    {
      "cell_type": "markdown",
      "metadata": {
        "id": "25f01DcGMuy8",
        "colab_type": "text"
      },
      "source": [
        "We also say overfitted model has **high variance** and unferfitted model is **highly biased**."
      ]
    },
    {
      "cell_type": "markdown",
      "metadata": {
        "id": "k9_4UN8JM9Yj",
        "colab_type": "text"
      },
      "source": [
        "#### **Main Cause**"
      ]
    },
    {
      "cell_type": "markdown",
      "metadata": {
        "id": "TaZfQI_jNJgr",
        "colab_type": "text"
      },
      "source": [
        "**Overfitting**\n",
        "\n",
        "> Samples of sufficiently diverse patterns were not included in the training set.<br>Overfitted model can be improved by collecting more training data.\n",
        "\n",
        "> If it's realistically hard to collect more data, we can **regularize** the weight $w$."
      ]
    },
    {
      "cell_type": "markdown",
      "metadata": {
        "id": "WaTDM0Z1OlRd",
        "colab_type": "text"
      },
      "source": [
        "**Underfitting**\n",
        "\n",
        "> Model isn't complex enough to analyze the data set and return the right result.<br>Underfitted model can be improved by using more complex models."
      ]
    },
    {
      "cell_type": "markdown",
      "metadata": {
        "id": "7KG_TnmBSHY8",
        "colab_type": "text"
      },
      "source": [
        "![Graph](https://drive.google.com/uc?id=1cUr8nJnEPeT4PHxC61EdAC1de3lYZemf)"
      ]
    },
    {
      "cell_type": "markdown",
      "metadata": {
        "id": "zNf9SbdiSLHa",
        "colab_type": "text"
      },
      "source": [
        "Where x-axis is **accuracy** and y-axis is **epochs**."
      ]
    },
    {
      "cell_type": "markdown",
      "metadata": {
        "id": "0wj1r70sU7-n",
        "colab_type": "text"
      },
      "source": [
        "#### **Bias-variance Tradeoff**"
      ]
    },
    {
      "cell_type": "markdown",
      "metadata": {
        "id": "BwDarZR0Vl93",
        "colab_type": "text"
      },
      "source": [
        "Models with a lower bias in parameter estimation have a higher variance of the parameter estimates across samples, and vice versa.\n",
        "\n",
        "We need to select an appropriate point to prevent high bias and variance.<br>To record losses in validation, we will make edits in SingleLayer2 class."
      ]
    },
    {
      "cell_type": "code",
      "metadata": {
        "id": "3fFZ2TixYb4Y",
        "colab_type": "code",
        "colab": {}
      },
      "source": [
        "class SingleLayer3:\n",
        "\n",
        "  # Added validation losses\n",
        "  def __init__(self, learning_rate=0.1):\n",
        "    self.w = None\n",
        "    self.b = None\n",
        "    self.losses = []\n",
        "    self.val_losses = []\n",
        "    self.w_history = []\n",
        "    self.lr = learning_rate\n",
        "\n",
        "  def forpass(self, x):\n",
        "    z = np.sum(x * self.w) + self.b\n",
        "    return z\n",
        "\n",
        "  def backprop(self, x, err):\n",
        "    w_grad = x * err\n",
        "    b_grad = 1 * err\n",
        "    return w_grad, b_grad\n",
        "\n",
        "  def add_bias(self, x):\n",
        "    return np.c_[np.ones((x.shape[0], 1)), x]\n",
        "\n",
        "  def activation(self, z):\n",
        "    a = 1 / (1 + np.exp(-z))\n",
        "    return a\n",
        "  \n",
        "  \n",
        "  def fit(self, x, y, epochs=100, x_val=None, y_val=None):\n",
        "    self.w = np.ones(x.shape[1])\n",
        "    self.b = 0\n",
        "    self.w_history.append(self.w.copy())\n",
        "    for i in range(epochs):\n",
        "      loss = 0\n",
        "      indexes = np.random.permutation(np.arange(len(x)))\n",
        "      for i in indexes:\n",
        "        z = self.forpass(x[i])\n",
        "        a = self.activation(z)\n",
        "        err = -(y[i] - a)\n",
        "        w_grad, b_grad = self.backprop(x[i], err)\n",
        "        self.w -= self.lr * w_grad\n",
        "        self.b -= b_grad\n",
        "        self.w_history.append(self.w.copy())\n",
        "        a = np.clip(a, 1e-10, 1 - 1e-10)\n",
        "        loss += -(y[i] * np.log(a) + (1 - y[i]) * np.log(1 - a))\n",
        "\n",
        "      self.losses.append(loss/len(y))\n",
        "      self.update_val_loss(x_val, y_val)          # Update validation loss for each epoch\n",
        "\n",
        "  def predict(self, x):\n",
        "    z = [self.forpass(x_i) for x_i in x]\n",
        "    return np.array(z) > 0\n",
        "\n",
        "  def score(self, x, y):\n",
        "    return np.mean(self.predict(x) == y)\n",
        "\n",
        "  # Method that updates validation losses\n",
        "  def update_val_loss(self, x_val, y_val):\n",
        "    if x_val is None:\n",
        "      return\n",
        "    val_loss = 0\n",
        "    for i in range(len(x_val)):\n",
        "      z = self.forpass(x_val[i])\n",
        "      a = self.activation(z)\n",
        "      a = np.clip(a, 1e-10, 1-1e-10)\n",
        "      val_loss += -(y_val[i] * np.log(a) + (1 - y_val[i]) * np.log(1 - a))\n",
        "    self.val_losses.append(val_loss / len(y_val))"
      ],
      "execution_count": 0,
      "outputs": []
    },
    {
      "cell_type": "markdown",
      "metadata": {
        "id": "PWH_vfTebPF9",
        "colab_type": "text"
      },
      "source": [
        "Let's train our model with an modified model."
      ]
    },
    {
      "cell_type": "code",
      "metadata": {
        "id": "HweLWNYgbVUE",
        "colab_type": "code",
        "colab": {}
      },
      "source": [
        "layer3 = SingleLayer3()\n",
        "layer3.fit(x_train_scaled, y_train, x_val=x_val_scaled, y_val=y_val)"
      ],
      "execution_count": 0,
      "outputs": []
    },
    {
      "cell_type": "markdown",
      "metadata": {
        "id": "ZO9watFxbjFk",
        "colab_type": "text"
      },
      "source": [
        "Now we will draw a graph to see validation losses."
      ]
    },
    {
      "cell_type": "code",
      "metadata": {
        "id": "ixS2QRNJboAe",
        "colab_type": "code",
        "colab": {
          "base_uri": "https://localhost:8080/",
          "height": 283
        },
        "outputId": "f51f9a77-e5d3-4e9f-89e5-833a7da172ab"
      },
      "source": [
        "plt.ylim(0, 0.3)\n",
        "plt.plot(layer3.losses)\n",
        "plt.plot(layer3.val_losses)\n",
        "plt.ylabel('loss')\n",
        "plt.xlabel('epoch')\n",
        "plt.legend(['train_loss', 'val_loss'])\n",
        "plt.show()"
      ],
      "execution_count": 57,
      "outputs": [
        {
          "output_type": "display_data",
          "data": {
            "image/png": "[encoded data removed]",
            "text/plain": [
              "<Figure size 432x288 with 1 Axes>"
            ]
          },
          "metadata": {
            "tags": []
          }
        }
      ]
    },
    {
      "cell_type": "markdown",
      "metadata": {
        "id": "mMRQAW9icOQ1",
        "colab_type": "text"
      },
      "source": [
        "We can see that validation loss gets higher than training set after 20 epochs.<br>At this point, as we go through more epochs to train our model, $w$ will **fit better with training set**, but less with validation set.\n",
        "\n",
        "So after going through 20 epochs, there is no need to train anymore.<br>We call this technique '**early stopping**'."
      ]
    },
    {
      "cell_type": "code",
      "metadata": {
        "id": "aL96qR5gdyrX",
        "colab_type": "code",
        "colab": {
          "base_uri": "https://localhost:8080/",
          "height": 35
        },
        "outputId": "72921ebe-c7f8-4767-af35-00e8aa2dcb98"
      },
      "source": [
        "layer4 = SingleLayer3()\n",
        "layer4.fit(x_train_scaled, y_train, epochs=20)\n",
        "layer4.score(x_val_scaled, y_val)"
      ],
      "execution_count": 58,
      "outputs": [
        {
          "output_type": "execute_result",
          "data": {
            "text/plain": [
              "0.978021978021978"
            ]
          },
          "metadata": {
            "tags": []
          },
          "execution_count": 58
        }
      ]
    },
    {
      "cell_type": "markdown",
      "metadata": {
        "id": "xWqfsZ97eYFA",
        "colab_type": "text"
      },
      "source": [
        "The accuracy of a model **improved** by approximately 1.1%. (0.967 -> 0.978)"
      ]
    }
  ]
}