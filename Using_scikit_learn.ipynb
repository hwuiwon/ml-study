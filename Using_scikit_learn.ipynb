{
  "nbformat": 4,
  "nbformat_minor": 0,
  "metadata": {
    "colab": {
      "name": "Using scikit-learn",
      "provenance": [],
      "toc_visible": true,
      "authorship_tag": "ABX9TyNdFYbBnQMtodtK97IDuPWK",
      "include_colab_link": true
    },
    "kernelspec": {
      "name": "python3",
      "display_name": "Python 3"
    }
  },
  "cells": [
    {
      "cell_type": "markdown",
      "metadata": {
        "id": "view-in-github",
        "colab_type": "text"
      },
      "source": [
        "<a href=\"https://colab.research.google.com/github/hwuiwon/ML_study/blob/master/Using_scikit_learn.ipynb\" target=\"_parent\"><img src=\"https://colab.research.google.com/assets/colab-badge.svg\" alt=\"Open In Colab\"/></a>"
      ]
    },
    {
      "cell_type": "markdown",
      "metadata": {
        "id": "ux-C5Y9ZpGor",
        "colab_type": "text"
      },
      "source": [
        "# **Scikit-learn**"
      ]
    },
    {
      "cell_type": "markdown",
      "metadata": {
        "id": "HTYMjwimTCU_",
        "colab_type": "text"
      },
      "source": [
        "## **Summary**"
      ]
    },
    {
      "cell_type": "markdown",
      "metadata": {
        "id": "Px_G46vzSrLw",
        "colab_type": "text"
      },
      "source": [
        "We call performance on out-of-sample data of the models learned by the algorithm as **Generalization Performance**.\n",
        "\n",
        "In order to check model's performance by the **\"right\"** way, we split the train data set into two and use one of them in training and use the other part to test the model."
      ]
    },
    {
      "cell_type": "markdown",
      "metadata": {
        "id": "5KkuNc2pTtM-",
        "colab_type": "text"
      },
      "source": [
        "### **Rules**\n",
        "\n",
        "> When spliting the training data set into two, there should be more train set than test set.\n",
        "\n",
        "> Training data should be mixed evenly between both sets."
      ]
    },
    {
      "cell_type": "markdown",
      "metadata": {
        "id": "nGhMdsQ7DQH6",
        "colab_type": "text"
      },
      "source": [
        "## **Wisconsin breast cancer dataset**\n",
        "\n",
        "We will use **Wisconsin breast cancer dataset** from scikit-learn."
      ]
    },
    {
      "cell_type": "code",
      "metadata": {
        "id": "MxoloJYgDako",
        "colab_type": "code",
        "colab": {}
      },
      "source": [
        "from sklearn.datasets import load_breast_cancer\n",
        "cancer = load_breast_cancer()"
      ],
      "execution_count": 0,
      "outputs": []
    },
    {
      "cell_type": "markdown",
      "metadata": {
        "id": "HC_rP7OCDpNi",
        "colab_type": "text"
      },
      "source": [
        "We will check cancer's data and target."
      ]
    },
    {
      "cell_type": "code",
      "metadata": {
        "id": "WAkZSNGuDvUS",
        "colab_type": "code",
        "outputId": "f907d496-b8ce-4a8a-a418-1a03436ea3d0",
        "colab": {
          "base_uri": "https://localhost:8080/",
          "height": 35
        }
      },
      "source": [
        "print(cancer.data.shape, cancer.target.shape)"
      ],
      "execution_count": 0,
      "outputs": [
        {
          "output_type": "stream",
          "text": [
            "(569, 30) (569,)\n"
          ],
          "name": "stdout"
        }
      ]
    },
    {
      "cell_type": "markdown",
      "metadata": {
        "id": "CWEqE_kyD3HE",
        "colab_type": "text"
      },
      "source": [
        "It seems there are **569** data and **30** cancer characteristics."
      ]
    },
    {
      "cell_type": "code",
      "metadata": {
        "id": "K7byD9GVD_NK",
        "colab_type": "code",
        "outputId": "afa1b11e-d413-45ad-ae37-c93b91b2e031",
        "colab": {
          "base_uri": "https://localhost:8080/",
          "height": 287
        }
      },
      "source": [
        "cancer.data[:3]"
      ],
      "execution_count": 0,
      "outputs": [
        {
          "output_type": "execute_result",
          "data": {
            "text/plain": [
              "array([[1.799e+01, 1.038e+01, 1.228e+02, 1.001e+03, 1.184e-01, 2.776e-01,\n",
              "        3.001e-01, 1.471e-01, 2.419e-01, 7.871e-02, 1.095e+00, 9.053e-01,\n",
              "        8.589e+00, 1.534e+02, 6.399e-03, 4.904e-02, 5.373e-02, 1.587e-02,\n",
              "        3.003e-02, 6.193e-03, 2.538e+01, 1.733e+01, 1.846e+02, 2.019e+03,\n",
              "        1.622e-01, 6.656e-01, 7.119e-01, 2.654e-01, 4.601e-01, 1.189e-01],\n",
              "       [2.057e+01, 1.777e+01, 1.329e+02, 1.326e+03, 8.474e-02, 7.864e-02,\n",
              "        8.690e-02, 7.017e-02, 1.812e-01, 5.667e-02, 5.435e-01, 7.339e-01,\n",
              "        3.398e+00, 7.408e+01, 5.225e-03, 1.308e-02, 1.860e-02, 1.340e-02,\n",
              "        1.389e-02, 3.532e-03, 2.499e+01, 2.341e+01, 1.588e+02, 1.956e+03,\n",
              "        1.238e-01, 1.866e-01, 2.416e-01, 1.860e-01, 2.750e-01, 8.902e-02],\n",
              "       [1.969e+01, 2.125e+01, 1.300e+02, 1.203e+03, 1.096e-01, 1.599e-01,\n",
              "        1.974e-01, 1.279e-01, 2.069e-01, 5.999e-02, 7.456e-01, 7.869e-01,\n",
              "        4.585e+00, 9.403e+01, 6.150e-03, 4.006e-02, 3.832e-02, 2.058e-02,\n",
              "        2.250e-02, 4.571e-03, 2.357e+01, 2.553e+01, 1.525e+02, 1.709e+03,\n",
              "        1.444e-01, 4.245e-01, 4.504e-01, 2.430e-01, 3.613e-01, 8.758e-02]])"
            ]
          },
          "metadata": {
            "tags": []
          },
          "execution_count": 15
        }
      ]
    },
    {
      "cell_type": "markdown",
      "metadata": {
        "id": "8xW-81MREE3K",
        "colab_type": "text"
      },
      "source": [
        "As there are too many characteristics, we will use the box plot to show each characteristic's **quartile value** instead of using scatter plot.\n",
        "<br><br>\n",
        "First import **matplotlib** and **numpy** by running the code below."
      ]
    },
    {
      "cell_type": "code",
      "metadata": {
        "id": "t9kG8DoiEccy",
        "colab_type": "code",
        "colab": {}
      },
      "source": [
        "import matplotlib.pyplot as plt\n",
        "import numpy as np"
      ],
      "execution_count": 0,
      "outputs": []
    },
    {
      "cell_type": "code",
      "metadata": {
        "id": "3UAxDASYEoJD",
        "colab_type": "code",
        "outputId": "907fa252-a209-4a34-e4c3-c04ece1afe8e",
        "colab": {
          "base_uri": "https://localhost:8080/",
          "height": 279
        }
      },
      "source": [
        "plt.boxplot(cancer.data)\n",
        "plt.xlabel('feature')\n",
        "plt.ylabel('value')\n",
        "plt.show()"
      ],
      "execution_count": 0,
      "outputs": [
        {
          "output_type": "display_data",
          "data": {
            "image/png": "[encoded data removed]",
            "text/plain": [
              "<Figure size 432x288 with 1 Axes>"
            ]
          },
          "metadata": {
            "tags": []
          }
        }
      ]
    },
    {
      "cell_type": "markdown",
      "metadata": {
        "id": "8DZ2TH7TE9CP",
        "colab_type": "text"
      },
      "source": [
        "By looking at the box plot, we can see distribution of **4, 14, and 24th feature** is greater than others.\n",
        "\n",
        "Let's check what those features are."
      ]
    },
    {
      "cell_type": "code",
      "metadata": {
        "id": "FpZJvkLfFXc9",
        "colab_type": "code",
        "outputId": "93b94706-8641-4220-b6e2-3426f3342830",
        "colab": {
          "base_uri": "https://localhost:8080/",
          "height": 35
        }
      },
      "source": [
        "cancer.feature_names[[3,13,23]]"
      ],
      "execution_count": 0,
      "outputs": [
        {
          "output_type": "execute_result",
          "data": {
            "text/plain": [
              "array(['mean area', 'area error', 'worst area'], dtype='<U23')"
            ]
          },
          "metadata": {
            "tags": []
          },
          "execution_count": 18
        }
      ]
    },
    {
      "cell_type": "markdown",
      "metadata": {
        "id": "dodolVWtF4IL",
        "colab_type": "text"
      },
      "source": [
        "We will now check target of the cancer dataset."
      ]
    },
    {
      "cell_type": "code",
      "metadata": {
        "id": "WDKELluiGCaa",
        "colab_type": "code",
        "outputId": "321ec05d-2706-4df3-bfd5-888d7f9c5530",
        "colab": {
          "base_uri": "https://localhost:8080/",
          "height": 35
        }
      },
      "source": [
        "np.unique(cancer.target, return_counts=True)"
      ],
      "execution_count": 0,
      "outputs": [
        {
          "output_type": "execute_result",
          "data": {
            "text/plain": [
              "(array([0, 1]), array([212, 357]))"
            ]
          },
          "metadata": {
            "tags": []
          },
          "execution_count": 19
        }
      ]
    },
    {
      "cell_type": "markdown",
      "metadata": {
        "id": "6casebszGIKi",
        "colab_type": "text"
      },
      "source": [
        "There are 212 benign tumors (target value = 0) and 357 malignant tumors (target value = 1)."
      ]
    },
    {
      "cell_type": "code",
      "metadata": {
        "id": "oLztYI-YG01Z",
        "colab_type": "code",
        "colab": {}
      },
      "source": [
        "x = cancer.data\n",
        "y = cancer.target"
      ],
      "execution_count": 0,
      "outputs": []
    },
    {
      "cell_type": "markdown",
      "metadata": {
        "id": "KEu0YmJvUaz_",
        "colab_type": "text"
      },
      "source": [
        "As mentioned in the rule previously, we will split the data into two individual sets."
      ]
    },
    {
      "cell_type": "code",
      "metadata": {
        "id": "3apVt2fgUkuH",
        "colab_type": "code",
        "colab": {}
      },
      "source": [
        "from sklearn.model_selection import train_test_split\n",
        "\n",
        "x_train, x_test, y_train, y_test = train_test_split(x, y, stratify=y, test_size=0.2, random_state=42)"
      ],
      "execution_count": 0,
      "outputs": []
    },
    {
      "cell_type": "markdown",
      "metadata": {
        "id": "6QY5Z-ahU4Zm",
        "colab_type": "text"
      },
      "source": [
        "> **stratify** parameter makes a split so that the proportion of values in the sample produced will be the same as the proportion of values provided to parameter.\n",
        "\n",
        "> **train_test_split** method splits data set into a training data set and test data set of 75:25 ratio.<br>In this case, we use **test_size** parameter to change that ratio into 80:20."
      ]
    },
    {
      "cell_type": "markdown",
      "metadata": {
        "id": "V8m97qfzWRIw",
        "colab_type": "text"
      },
      "source": [
        "Let's check if our data set is split."
      ]
    },
    {
      "cell_type": "code",
      "metadata": {
        "id": "CapAEbxkWkgD",
        "colab_type": "code",
        "outputId": "5a8bbe13-30ce-4a25-bf04-ce791d226ba1",
        "colab": {
          "base_uri": "https://localhost:8080/",
          "height": 53
        }
      },
      "source": [
        "print(x_train.shape, x_test.shape)\n",
        "np.unique(y_train, return_counts=True)"
      ],
      "execution_count": 0,
      "outputs": [
        {
          "output_type": "stream",
          "text": [
            "(455, 30) (114, 30)\n"
          ],
          "name": "stdout"
        },
        {
          "output_type": "execute_result",
          "data": {
            "text/plain": [
              "(array([0, 1]), array([170, 285]))"
            ]
          },
          "metadata": {
            "tags": []
          },
          "execution_count": 22
        }
      ]
    },
    {
      "cell_type": "markdown",
      "metadata": {
        "id": "8YLLioXbXaFb",
        "colab_type": "text"
      },
      "source": [
        "### **Embodying Logistic Regression**"
      ]
    },
    {
      "cell_type": "markdown",
      "metadata": {
        "id": "ckgY3eCMaMQ2",
        "colab_type": "text"
      },
      "source": [
        "![Concept](https://drive.google.com/uc?id=1yxClBI1owKWIYlicrrUg-2PGb990oDsd)"
      ]
    },
    {
      "cell_type": "code",
      "metadata": {
        "id": "7YwzM2mBXtXR",
        "colab_type": "code",
        "colab": {}
      },
      "source": [
        "class LogisticNeuron:\n",
        "\n",
        "  def __init__(self):\n",
        "    self.w = None\n",
        "    self.b = None\n",
        "  \n",
        "  def forpass(self, x):\n",
        "    z = np.sum(x * self.w) + self.b\n",
        "    return z\n",
        "\n",
        "  # Calculate gradient\n",
        "  def backprop(self, x, err):\n",
        "    w_grad = x * err\n",
        "    b_grad = 1 * err\n",
        "    return w_grad, b_grad\n",
        "\n",
        "  # Training\n",
        "  def fit(self, x, y, epochs=100):\n",
        "    self.w = np.ones(x.shape[1])\n",
        "    self.b = 0\n",
        "    for i in range(epochs):\n",
        "      for x_i, y_i in zip(x, y):\n",
        "        z = self.forpass(x_i)\n",
        "        a = self.activation(z)\n",
        "        err = -(y_i - a)\n",
        "        w_grad, b_grad = self.backprop(x_i, err)\n",
        "        self.w -= w_grad\n",
        "        self.b -= b_grad\n",
        "  \n",
        "  # Sigmoid function\n",
        "  def activation(self, z):\n",
        "    a = 1 / (1 + np.exp(-z))\n",
        "    return a\n",
        "\n",
        "  def predict(self, x):\n",
        "    z = [self.forpass(x_i) for x_i in x]\n",
        "    a = self.activation(np.array(z))\n",
        "    return a > 0.5"
      ],
      "execution_count": 0,
      "outputs": []
    },
    {
      "cell_type": "markdown",
      "metadata": {
        "id": "XdRb_QkbaWiv",
        "colab_type": "text"
      },
      "source": [
        "Now we will train model by using LogisticNeuron."
      ]
    },
    {
      "cell_type": "code",
      "metadata": {
        "id": "vvwPYloLaelt",
        "colab_type": "code",
        "outputId": "3afc59af-be36-4942-e074-ed361d7cee7e",
        "colab": {
          "base_uri": "https://localhost:8080/",
          "height": 53
        }
      },
      "source": [
        "neuron = LogisticNeuron()\n",
        "neuron.fit(x_train, y_train)\n",
        "\n",
        "np.mean(neuron.predict(x_test) == y_test)"
      ],
      "execution_count": 0,
      "outputs": [
        {
          "output_type": "stream",
          "text": [
            "/usr/local/lib/python3.6/dist-packages/ipykernel_launcher.py:32: RuntimeWarning: overflow encountered in exp\n"
          ],
          "name": "stderr"
        },
        {
          "output_type": "execute_result",
          "data": {
            "text/plain": [
              "0.8245614035087719"
            ]
          },
          "metadata": {
            "tags": []
          },
          "execution_count": 24
        }
      ]
    },
    {
      "cell_type": "markdown",
      "metadata": {
        "id": "s7ASb2MGc2xH",
        "colab_type": "text"
      },
      "source": [
        "It seems that our model has accuracy of **82.46%**\n",
        "\n",
        "We will now try to improve the accuracy."
      ]
    },
    {
      "cell_type": "markdown",
      "metadata": {
        "id": "Bscx7iE9K6v1",
        "colab_type": "text"
      },
      "source": [
        "### **Gradient Descent**\n",
        "\n",
        "We used **stochastic gradient descent**, which is calculating gradient by randomly choosing one sample from the data.\n",
        "\n",
        "However we will now use **batch gradient descent** that uses all training set to calculate gradient. "
      ]
    },
    {
      "cell_type": "markdown",
      "metadata": {
        "id": "qWnguLfnLj9T",
        "colab_type": "text"
      },
      "source": [
        "The types of gradient descent mentioned previously should calculate $w$ by shuffling indexes randomly for each epoch.<br>That way, the search process is diversified and we can find the optimal weight $w$.\n",
        "\n",
        "This can be done by using \n",
        "\n",
        "```\n",
        "np.random.permutation()\n",
        "```\n",
        "\n"
      ]
    },
    {
      "cell_type": "code",
      "metadata": {
        "id": "ZHWDLXy6NEEs",
        "colab_type": "code",
        "colab": {}
      },
      "source": [
        "class SingleLayer:\n",
        "\n",
        "  def __init__(self):\n",
        "    self.w = None\n",
        "    self.b = None\n",
        "    self.losses = []\n",
        "\n",
        "  def forpass(self, x):\n",
        "    z = np.sum(x * self.w) + self.b\n",
        "    return z\n",
        "\n",
        "  def backprop(self, x, err):\n",
        "    w_grad = x * err\n",
        "    b_grad = 1 * err\n",
        "    return w_grad, b_grad\n",
        "\n",
        "  def add_bias(self, x):\n",
        "    return np.c_[np.ones((x.shape[0], 1)), x]\n",
        "\n",
        "  def activation(self, z):\n",
        "    a = 1 / (1 + np.exp(-z))\n",
        "    return a\n",
        "  \n",
        "  def fit(self, x, y, epochs=100):\n",
        "    self.w = np.ones(x.shape[1])\n",
        "    self.b = 0\n",
        "    for i in range(epochs):\n",
        "      loss = 0\n",
        "      indexes = np.random.permutation(np.arange(len(x))) # Mixing index\n",
        "      for i in indexes:\n",
        "        z = self.forpass(x[i])\n",
        "        a = self.activation(z)\n",
        "        err = -(y[i] - a)\n",
        "        w_grad, b_grad = self.backprop(x[i], err)\n",
        "        self.w -= w_grad\n",
        "        self.b -= b_grad\n",
        "        a = np.clip(a, 1e-10, 1 - 1e-10) # Clipping value for stable log calculation\n",
        "\n",
        "        loss += -(y[i] * np.log(a) + (1 - y[i]) * np.log(1 - a))\n",
        "      self.losses.append(loss/len(y))\n",
        "\n",
        "  def predict(self, x):\n",
        "    z = [self.forpass(x_i) for x_i in x]\n",
        "    return np.array(z) > 0\n",
        "\n",
        "  def score(self, x, y):\n",
        "    return np.mean(self.predict(x) == y)"
      ],
      "execution_count": 0,
      "outputs": []
    },
    {
      "cell_type": "markdown",
      "metadata": {
        "id": "Vdus_VKlQbGT",
        "colab_type": "text"
      },
      "source": [
        "It's time to test our new neural network."
      ]
    },
    {
      "cell_type": "code",
      "metadata": {
        "id": "ZHDE_InDQklR",
        "colab_type": "code",
        "outputId": "caf9723e-192f-4101-da68-fb7bc369088a",
        "colab": {
          "base_uri": "https://localhost:8080/",
          "height": 53
        }
      },
      "source": [
        "layer = SingleLayer()\n",
        "layer.fit(x_train, y_train)\n",
        "layer.score(x_test, y_test)"
      ],
      "execution_count": 0,
      "outputs": [
        {
          "output_type": "stream",
          "text": [
            "/usr/local/lib/python3.6/dist-packages/ipykernel_launcher.py:21: RuntimeWarning: overflow encountered in exp\n"
          ],
          "name": "stderr"
        },
        {
          "output_type": "execute_result",
          "data": {
            "text/plain": [
              "0.8859649122807017"
            ]
          },
          "metadata": {
            "tags": []
          },
          "execution_count": 33
        }
      ]
    },
    {
      "cell_type": "code",
      "metadata": {
        "id": "qm6dM5JGRmCG",
        "colab_type": "code",
        "outputId": "6d3cdfc5-69a3-4da3-f403-ee547714d891",
        "colab": {
          "base_uri": "https://localhost:8080/",
          "height": 279
        }
      },
      "source": [
        "plt.plot(layer.losses)\n",
        "plt.xlabel('epoch')\n",
        "plt.ylabel('loss')\n",
        "plt.show()"
      ],
      "execution_count": 0,
      "outputs": [
        {
          "output_type": "display_data",
          "data": {
            "image/png": "[encoded data removed]",
            "text/plain": [
              "<Figure size 432x288 with 1 Axes>"
            ]
          },
          "metadata": {
            "tags": []
          }
        }
      ]
    },
    {
      "cell_type": "markdown",
      "metadata": {
        "id": "2uVfckMmRPGk",
        "colab_type": "text"
      },
      "source": [
        "We can see that accuracy increased from **0.82** to **0.89**.<br>This is because we mixed index of training set for each epoch."
      ]
    },
    {
      "cell_type": "markdown",
      "metadata": {
        "id": "afN5qPc5ViHC",
        "colab_type": "text"
      },
      "source": [
        "## **Using Class from scikit-learn**"
      ]
    },
    {
      "cell_type": "markdown",
      "metadata": {
        "id": "PuG5mjOgVwxQ",
        "colab_type": "text"
      },
      "source": [
        "**SGDClassifier** is a class that implemens gradient descent."
      ]
    },
    {
      "cell_type": "code",
      "metadata": {
        "id": "K_5LCZVIXBzY",
        "colab_type": "code",
        "colab": {}
      },
      "source": [
        "from sklearn.datasets import load_breast_cancer\n",
        "from sklearn.model_selection import train_test_split\n",
        "\n",
        "x = load_breast_cancer().data\n",
        "y = load_breast_cancer().target\n",
        "x_train_all, x_test, y_train_all, y_test = train_test_split(x, y, stratify=y, test_size=0.2, random_state=42)"
      ],
      "execution_count": 0,
      "outputs": []
    },
    {
      "cell_type": "code",
      "metadata": {
        "id": "R5_kP3eDV_eR",
        "colab_type": "code",
        "outputId": "5c5a0595-0815-4a39-fcf0-a7743d6f3c7e",
        "colab": {
          "base_uri": "https://localhost:8080/",
          "height": 35
        }
      },
      "source": [
        "from sklearn.linear_model import SGDClassifier\n",
        "\n",
        "sgd = SGDClassifier(loss='log', random_state=42)\n",
        "sgd.fit(x_train_all, y_train_all)\n",
        "sgd.score(x_test, y_test)"
      ],
      "execution_count": 0,
      "outputs": [
        {
          "output_type": "execute_result",
          "data": {
            "text/plain": [
              "0.8333333333333334"
            ]
          },
          "metadata": {
            "tags": []
          },
          "execution_count": 44
        }
      ]
    },
    {
      "cell_type": "markdown",
      "metadata": {
        "id": "LYWnwjIjYw9R",
        "colab_type": "text"
      },
      "source": [
        "We can select other loss function to improve accuracy of our model.\n",
        "\n",
        "We will try using **hinge** loss function."
      ]
    },
    {
      "cell_type": "code",
      "metadata": {
        "id": "rIEOmBSFY8-l",
        "colab_type": "code",
        "outputId": "437c9c6a-c084-4aee-d48d-2cff2ed43e57",
        "colab": {
          "base_uri": "https://localhost:8080/",
          "height": 35
        }
      },
      "source": [
        "from sklearn.linear_model import SGDClassifier\n",
        "\n",
        "sgd = SGDClassifier(loss='hinge', random_state=42)\n",
        "sgd.fit(x_train_all, y_train_all)\n",
        "sgd.score(x_test, y_test)"
      ],
      "execution_count": 0,
      "outputs": [
        {
          "output_type": "execute_result",
          "data": {
            "text/plain": [
              "0.9385964912280702"
            ]
          },
          "metadata": {
            "tags": []
          },
          "execution_count": 45
        }
      ]
    },
    {
      "cell_type": "markdown",
      "metadata": {
        "id": "UA_YoRDlY_QU",
        "colab_type": "text"
      },
      "source": [
        "A Model that uses the hinge loss function to train yields better performance. We call this **\"tuning\"**.\n",
        "\n",
        "However, there is a high probability that this model will **not perform well in real life**.<br>If we tune a model by using a test set, it creates a model that shows good performance on \"test data\" not \"real data\"."
      ]
    }
  ]
}