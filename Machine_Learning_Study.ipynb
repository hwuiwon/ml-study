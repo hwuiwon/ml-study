{
  "nbformat": 4,
  "nbformat_minor": 0,
  "metadata": {
    "colab": {
      "name": "Machine Learning Study",
      "provenance": [],
      "collapsed_sections": [],
      "include_colab_link": true
    },
    "kernelspec": {
      "name": "python3",
      "display_name": "Python 3"
    }
  },
  "cells": [
    {
      "cell_type": "markdown",
      "metadata": {
        "id": "view-in-github",
        "colab_type": "text"
      },
      "source": [
        "<a href=\"https://colab.research.google.com/github/hwuiwon/ML_study/blob/master/Machine_Learning_Study.ipynb\" target=\"_parent\"><img src=\"https://colab.research.google.com/assets/colab-badge.svg\" alt=\"Open In Colab\"/></a>"
      ]
    },
    {
      "cell_type": "markdown",
      "metadata": {
        "id": "v2IPTVUAhkis",
        "colab_type": "text"
      },
      "source": [
        "# **Machine Learning**\n",
        "---\n",
        "\n",
        "Self-learning algorithms that derive knowledge from data in order to make predictions."
      ]
    },
    {
      "cell_type": "markdown",
      "metadata": {
        "id": "ojzxepI7iIRc",
        "colab_type": "text"
      },
      "source": [
        "##**Types of Machine Learning**\n",
        "**Supervised Learning**: Learn a model from labeled training data to make predictions about future data\n",
        "\n",
        "**Unsupervised Learning**: Organizing a pile of information into meaningful subgroups without having any prior knowledge of their group memberships\n",
        "\n",
        "**Reinforcement Learning**: Goal is to develop a system that improves its performance based on interactions with the environment\n"
      ]
    },
    {
      "cell_type": "markdown",
      "metadata": {
        "id": "W_KvLr7FjlGK",
        "colab_type": "text"
      },
      "source": [
        "## **Terminology**\n",
        "\n",
        "**Training**: Model fitting for parametric models similar to parameter estimation\n",
        "\n",
        "**Samples**: Instances of what we are measuring\n",
        "\n",
        "**Features**: Measurements of a sample, A column in a data table or data matrix\n",
        "\n",
        "**Targets**: Stnonymous with outcome, output, response variable, dependent variable, label, and ground truth\n",
        "\n",
        "**Loss Function**: *cost function*, \"loss\" refers to the loss measured for a single data point, and the cost is a measurement that computes the loss over the entire dataset\n",
        "\n",
        "**Epoch**: One cycle through the full training dataset"
      ]
    },
    {
      "cell_type": "markdown",
      "metadata": {
        "id": "ewRUAmbFqsYp",
        "colab_type": "text"
      },
      "source": [
        "## **Rosenblatt's Perceptron Rule**\n",
        "\n",
        "1.   Initialize the weights to 0 or small random numbers\n",
        "2.   For Each training example x(i):\n",
        "3.   Compute the output value y & Update the weights\n",
        "\n",
        "If the two classes can't be seperated by a linear decision boundary, we can set a maximum number of passes over the training dataset (**epochs**) or a threshold for the number of tolerated misclassifications - the perceptron would never stop updating the weights otherwise:"
      ]
    },
    {
      "cell_type": "markdown",
      "metadata": {
        "id": "81Vlhg15xVFh",
        "colab_type": "text"
      },
      "source": [
        "**Threshold Function**: $w_1x_1+w_2x_2+b=z$\n",
        "\n",
        "Where $y=\\begin{cases}1&(z > 0)\\\\-1\\end{cases}$"
      ]
    },
    {
      "cell_type": "markdown",
      "metadata": {
        "id": "YcsUhSYvswXR",
        "colab_type": "text"
      },
      "source": [
        "### **Implementation**"
      ]
    },
    {
      "cell_type": "code",
      "metadata": {
        "id": "xJoJXH8Xs_Gw",
        "colab_type": "code",
        "colab": {}
      },
      "source": [
        "import numpy as np\n",
        "\n",
        "class Perceptron(object) :\n",
        "\n",
        "  \"\"\"\n",
        "\n",
        "  Parameters\n",
        "  ------------\n",
        "  eta : float\n",
        "  Learning rate (between 0.0 and 1.0)\n",
        "  n_iter : int\n",
        "  Passes over the training dataset.\n",
        "  random_state : int\n",
        "  Random number generator seed for random weight initialization.\n",
        "  \n",
        "  \"\"\"\n",
        "\n",
        "  def __init__(self, eta=0.01, n_iter=50, random_state=1):\n",
        "    self.eta = eta\n",
        "    self.n_iter = n_iter\n",
        "    self.random_state = random_state\n",
        "  \n",
        "  def fit(self, X, y):\n",
        "    rgen = np.random.RandomState(self.random_state)\n",
        "    self.w_ = rgen.normal(loc=0.0, scale=0.01, size=1 + X.shape[1])\n",
        "    self.errors_ = []\n",
        "\n",
        "    for _ in range(self.n_iter):\n",
        "      errors = 0\n",
        "      for xi, target in zip(X, y):\n",
        "        update = self.eta * (target - self.predict(xi))\n",
        "        self.w_[1:] += update * xi\n",
        "        self.w_[0] += update\n",
        "        errors += int(update != 0.0)\n",
        "      self.errors_.append(errors)\n",
        "    return self\n",
        "  \n",
        "  def net_input(self, X):\n",
        "    return np.dot(X, self.w_[1:]) + self.w_[0]\n",
        "    \n",
        "  def predict(self, X):\n",
        "    return np.where(self.net_input(X) >= 0.0, 1, -1)"
      ],
      "execution_count": 0,
      "outputs": []
    },
    {
      "cell_type": "markdown",
      "metadata": {
        "id": "ZqYDc41GvoKp",
        "colab_type": "text"
      },
      "source": [
        "It is important **not** to initialize the weights to 0 because the learning rate (eta), only has an effect on the classification outcome if the weights are initialized to non-zero values.\n",
        "\n",
        "If all the weights are 0, the learning rate parameter affects only the **scale of the weight vector, not the direction**."
      ]
    },
    {
      "cell_type": "code",
      "metadata": {
        "id": "G2hmO0nRy8-v",
        "colab_type": "code",
        "outputId": "390ad7f7-4cb1-4ddf-e1b3-c47a89af6d27",
        "colab": {
          "base_uri": "https://localhost:8080/",
          "height": 204
        }
      },
      "source": [
        "import os\n",
        "import pandas as pd\n",
        "\n",
        "s = os.path.join('https://archive.ics.uci.edu', 'ml',\n",
        "                 'machine-learning-databases','iris','iris.data')\n",
        "df = pd.read_csv(s, header=None, encoding='utf-8')\n",
        "df.tail()"
      ],
      "execution_count": 0,
      "outputs": [
        {
          "output_type": "execute_result",
          "data": {
            "text/html": [
              "<div>\n",
              "<style scoped>\n",
              "    .dataframe tbody tr th:only-of-type {\n",
              "        vertical-align: middle;\n",
              "    }\n",
              "\n",
              "    .dataframe tbody tr th {\n",
              "        vertical-align: top;\n",
              "    }\n",
              "\n",
              "    .dataframe thead th {\n",
              "        text-align: right;\n",
              "    }\n",
              "</style>\n",
              "<table border=\"1\" class=\"dataframe\">\n",
              "  <thead>\n",
              "    <tr style=\"text-align: right;\">\n",
              "      <th></th>\n",
              "      <th>0</th>\n",
              "      <th>1</th>\n",
              "      <th>2</th>\n",
              "      <th>3</th>\n",
              "      <th>4</th>\n",
              "    </tr>\n",
              "  </thead>\n",
              "  <tbody>\n",
              "    <tr>\n",
              "      <th>145</th>\n",
              "      <td>6.7</td>\n",
              "      <td>3.0</td>\n",
              "      <td>5.2</td>\n",
              "      <td>2.3</td>\n",
              "      <td>Iris-virginica</td>\n",
              "    </tr>\n",
              "    <tr>\n",
              "      <th>146</th>\n",
              "      <td>6.3</td>\n",
              "      <td>2.5</td>\n",
              "      <td>5.0</td>\n",
              "      <td>1.9</td>\n",
              "      <td>Iris-virginica</td>\n",
              "    </tr>\n",
              "    <tr>\n",
              "      <th>147</th>\n",
              "      <td>6.5</td>\n",
              "      <td>3.0</td>\n",
              "      <td>5.2</td>\n",
              "      <td>2.0</td>\n",
              "      <td>Iris-virginica</td>\n",
              "    </tr>\n",
              "    <tr>\n",
              "      <th>148</th>\n",
              "      <td>6.2</td>\n",
              "      <td>3.4</td>\n",
              "      <td>5.4</td>\n",
              "      <td>2.3</td>\n",
              "      <td>Iris-virginica</td>\n",
              "    </tr>\n",
              "    <tr>\n",
              "      <th>149</th>\n",
              "      <td>5.9</td>\n",
              "      <td>3.0</td>\n",
              "      <td>5.1</td>\n",
              "      <td>1.8</td>\n",
              "      <td>Iris-virginica</td>\n",
              "    </tr>\n",
              "  </tbody>\n",
              "</table>\n",
              "</div>"
            ],
            "text/plain": [
              "       0    1    2    3               4\n",
              "145  6.7  3.0  5.2  2.3  Iris-virginica\n",
              "146  6.3  2.5  5.0  1.9  Iris-virginica\n",
              "147  6.5  3.0  5.2  2.0  Iris-virginica\n",
              "148  6.2  3.4  5.4  2.3  Iris-virginica\n",
              "149  5.9  3.0  5.1  1.8  Iris-virginica"
            ]
          },
          "metadata": {
            "tags": []
          },
          "execution_count": 2
        }
      ]
    },
    {
      "cell_type": "code",
      "metadata": {
        "id": "6-LP_Zmf13af",
        "colab_type": "code",
        "outputId": "b89926b2-3842-42ed-f1ad-e4e895104c68",
        "colab": {
          "base_uri": "https://localhost:8080/",
          "height": 279
        }
      },
      "source": [
        "import matplotlib.pyplot as plt\n",
        "import numpy as np\n",
        "\n",
        "y = df.iloc[0:100, 4].values\n",
        "y = np.where(y == 'Iris-setosa', -1, 1)\n",
        "X = df.iloc[0:100, [0, 2]].values\n",
        "plt.scatter(X[:50, 0], X[:50, 1], color='red', marker='o', label='setosa')\n",
        "plt.scatter(X[50:100, 0], X[50:100, 1], color='blue', marker='x', label='versicolor')\n",
        "plt.xlabel('sepal length [cm]') # column index 0\n",
        "plt.ylabel('petal length [cm]') # column index 1\n",
        "plt.legend(loc='upper left')\n",
        "plt.show()"
      ],
      "execution_count": 0,
      "outputs": [
        {
          "output_type": "display_data",
          "data": {
            "image/png": "[encoded data removed]",
            "text/plain": [
              "<Figure size 432x288 with 1 Axes>"
            ]
          },
          "metadata": {
            "tags": []
          }
        }
      ]
    },
    {
      "cell_type": "markdown",
      "metadata": {
        "id": "2dLmzBKK76yE",
        "colab_type": "text"
      },
      "source": [
        "We can see that a **linear decision** boundary should be sufficient to separate Setora from Versicolor flowers.\n",
        "\n",
        "It's time to train our perceptron algorithm."
      ]
    },
    {
      "cell_type": "code",
      "metadata": {
        "id": "i1XE8X-o8Tzc",
        "colab_type": "code",
        "outputId": "c7930ff3-a704-4c03-ae72-df6e7936afba",
        "colab": {
          "base_uri": "https://localhost:8080/",
          "height": 279
        }
      },
      "source": [
        "ppn = Perceptron(eta=0.1, n_iter=10)\n",
        "ppn.fit(X, y)\n",
        "plt.plot(range(1, len(ppn.errors_) + 1), ppn.errors_, marker='o')\n",
        "plt.xlabel('Epochs')\n",
        "plt.ylabel('Number of updates')\n",
        "plt.show()"
      ],
      "execution_count": 0,
      "outputs": [
        {
          "output_type": "display_data",
          "data": {
            "image/png": "[encoded data removed]",
            "text/plain": [
              "<Figure size 432x288 with 1 Axes>"
            ]
          },
          "metadata": {
            "tags": []
          }
        }
      ]
    },
    {
      "cell_type": "markdown",
      "metadata": {
        "id": "fm_THDR8neuE",
        "colab_type": "text"
      },
      "source": [
        "After the **sixth** epoch, our perceptron converged, which means that it is able to classify the training examples perfectly."
      ]
    },
    {
      "cell_type": "code",
      "metadata": {
        "id": "881F9IPNnqv7",
        "colab_type": "code",
        "colab": {}
      },
      "source": [
        "from matplotlib.colors import ListedColormap\n",
        "\n",
        "def plot_decision_regions(X, y, classifier, resolution=0.02):\n",
        "  # setup marker generator and color map\n",
        "  markers = ('s', 'x', 'o', '^', 'v')\n",
        "  colors = ('red', 'blue', 'lightgreen', 'gray', 'cyan')\n",
        "  cmap = ListedColormap(colors[:len(np.unique(y))])\n",
        "\n",
        "  # plot the decision surface\n",
        "  x1_min, x1_max = X[:, 0].min() - 1, X[:, 0].max() + 1\n",
        "  x2_min, x2_max = X[:, 1].min() - 1, X[:, 1].max() + 1\n",
        "  xx1, xx2 = np.meshgrid(np.arange(x1_min, x1_max, resolution),\n",
        "                         np.arange(x2_min, x2_max, resolution))\n",
        "  Z = classifier.predict(np.array([xx1.ravel(), xx2.ravel()]).T)\n",
        "  Z = Z.reshape(xx1.shape)\n",
        "  plt.contourf(xx1, xx2, Z, alpha=0.3, cmap=cmap)\n",
        "  plt.xlim(xx1.min(), xx1.max())\n",
        "  plt.ylim(xx2.min(), xx2.max())\n",
        "\n",
        "  # plot class examples\n",
        "  for idx, cl in enumerate(np.unique(y)):\n",
        "    plt.scatter(x=X[y == cl, 0], y=X[y == cl, 1], alpha=0.8, c=colors[idx], \n",
        "              marker=markers[idx], label=cl, edgecolor='black')"
      ],
      "execution_count": 0,
      "outputs": []
    },
    {
      "cell_type": "code",
      "metadata": {
        "id": "H5P1aBVzoSJU",
        "colab_type": "code",
        "outputId": "bea1a3e5-b4bc-4e23-a9b2-207ca81a34a5",
        "colab": {
          "base_uri": "https://localhost:8080/",
          "height": 280
        }
      },
      "source": [
        "plot_decision_regions(X, y, classifier=ppn)\n",
        "plt.xlabel('sepal length [cm]')\n",
        "plt.ylabel('petal length [cm]')\n",
        "plt.legend(loc='upper left')\n",
        "plt.show()"
      ],
      "execution_count": 0,
      "outputs": [
        {
          "output_type": "display_data",
          "data": {
            "image/png": "[encoded data removed]",
            "text/plain": [
              "<Figure size 432x288 with 1 Axes>"
            ]
          },
          "metadata": {
            "tags": []
          }
        }
      ]
    },
    {
      "cell_type": "markdown",
      "metadata": {
        "id": "i4jO1JISpxpT",
        "colab_type": "text"
      },
      "source": [
        "## **Adaptive Linear Neuron (Adaline)**\n",
        "\n",
        "Illustrates the key concepts of defining and minimizing continuous cost functions."
      ]
    },
    {
      "cell_type": "markdown",
      "metadata": {
        "id": "olT-GKnbqRxb",
        "colab_type": "text"
      },
      "source": [
        "### **Key Difference with Rosenblatt's Perceptrion**\n",
        "\n",
        "Weights are **updated based on a linear activation function** rather than a unit step function.\n",
        "\n",
        "**Linear activation function**: $\\phi(w_T*x) = w_T*x$<br>Simply the identity function of the net input."
      ]
    },
    {
      "cell_type": "markdown",
      "metadata": {
        "id": "EL0PjyO0rfDO",
        "colab_type": "text"
      },
      "source": [
        "![Concept](https://drive.google.com/uc?id=1GiTCk61D8o7agrtd4hNwwo5KThE6KR6d)"
      ]
    },
    {
      "cell_type": "code",
      "metadata": {
        "id": "oInfP88tGvmH",
        "colab_type": "code",
        "colab": {}
      },
      "source": [
        "class AdalineGD(object):\n",
        "\n",
        "  def __init__(self, eta=0.01, n_iter=50, random_state=1):\n",
        "    self.eta = eta\n",
        "    self.n_iter = n_iter\n",
        "    self.random_state = random_state\n",
        "\n",
        "  def fit(self, X, y):\n",
        "    rgen = np.random.RandomState(self.random_state)\n",
        "    self.w_ = rgen.normal(loc=0.0, scale=0.01, size=1 + X.shape[1])\n",
        "    self.cost_ = []\n",
        "\n",
        "    for i in range(self.n_iter):\n",
        "      net_input = self.net_input(X)\n",
        "      output = self.activation(net_input)\n",
        "      errors = (y - output)\n",
        "      self.w_[1:] += self.eta * X.T.dot(errors)\n",
        "      self.w_[0] += self.eta * errors.sum()\n",
        "      cost = (errors**2).sum() / 2.0\n",
        "      self.cost_.append(cost)\n",
        "\n",
        "    return self\n",
        "\n",
        "  def net_input(self, X):\n",
        "    return np.dot(X, self.w_[1:]) + self.w_[0]\n",
        "  \n",
        "  def activation(self, X):\n",
        "    return X\n",
        "\n",
        "  def predict(self, X):\n",
        "    return np.where(self.activation(self.net_input(X)) >= 0.0, 1, -1)"
      ],
      "execution_count": 0,
      "outputs": []
    },
    {
      "cell_type": "markdown",
      "metadata": {
        "id": "BUUTd6by7cpu",
        "colab_type": "text"
      },
      "source": [
        "## **Used Methods**"
      ]
    },
    {
      "cell_type": "markdown",
      "metadata": {
        "id": "Yap311o44jQH",
        "colab_type": "text"
      },
      "source": [
        "#### ***Iloc***\n",
        "\n",
        "```\n",
        "DataFrame.iloc[x, y]\n",
        "```\n",
        "where **x** is array and **y** is limits"
      ]
    },
    {
      "cell_type": "code",
      "metadata": {
        "id": "jrsrwXDC5Nxt",
        "colab_type": "code",
        "outputId": "4af26ca6-c2bc-4276-b58b-f1607fd53535",
        "colab": {
          "base_uri": "https://localhost:8080/",
          "height": 183
        }
      },
      "source": [
        "mydict = [{'a': 1, 'b': 2, 'c': 3, 'd': 4},\n",
        "          {'a': 100, 'b': 200, 'c': 300, 'd': 400},\n",
        "          {'a': 1000, 'b': 2000, 'c': 3000, 'd': 4000 }]\n",
        "md = pd.DataFrame(mydict)\n",
        "print(md)\n",
        "md.iloc[[0, 2], [1, 3]]"
      ],
      "execution_count": 0,
      "outputs": [
        {
          "output_type": "stream",
          "text": [
            "      a     b     c     d\n",
            "0     1     2     3     4\n",
            "1   100   200   300   400\n",
            "2  1000  2000  3000  4000\n"
          ],
          "name": "stdout"
        },
        {
          "output_type": "execute_result",
          "data": {
            "text/html": [
              "<div>\n",
              "<style scoped>\n",
              "    .dataframe tbody tr th:only-of-type {\n",
              "        vertical-align: middle;\n",
              "    }\n",
              "\n",
              "    .dataframe tbody tr th {\n",
              "        vertical-align: top;\n",
              "    }\n",
              "\n",
              "    .dataframe thead th {\n",
              "        text-align: right;\n",
              "    }\n",
              "</style>\n",
              "<table border=\"1\" class=\"dataframe\">\n",
              "  <thead>\n",
              "    <tr style=\"text-align: right;\">\n",
              "      <th></th>\n",
              "      <th>b</th>\n",
              "      <th>d</th>\n",
              "    </tr>\n",
              "  </thead>\n",
              "  <tbody>\n",
              "    <tr>\n",
              "      <th>0</th>\n",
              "      <td>2</td>\n",
              "      <td>4</td>\n",
              "    </tr>\n",
              "    <tr>\n",
              "      <th>2</th>\n",
              "      <td>2000</td>\n",
              "      <td>4000</td>\n",
              "    </tr>\n",
              "  </tbody>\n",
              "</table>\n",
              "</div>"
            ],
            "text/plain": [
              "      b     d\n",
              "0     2     4\n",
              "2  2000  4000"
            ]
          },
          "metadata": {
            "tags": []
          },
          "execution_count": 5
        }
      ]
    }
  ]
}